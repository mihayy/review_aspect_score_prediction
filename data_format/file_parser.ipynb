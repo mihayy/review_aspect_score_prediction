{
  "nbformat": 4,
  "nbformat_minor": 0,
  "metadata": {
    "kernelspec": {
      "display_name": "Python 3",
      "language": "python",
      "name": "python3"
    },
    "colab": {
      "name": "file_parser.ipynb",
      "version": "0.3.2",
      "provenance": []
    }
  },
  "cells": [
    {
      "cell_type": "markdown",
      "metadata": {
        "id": "DSBdynvASofk",
        "colab_type": "text"
      },
      "source": [
        "# Data Formatting"
      ]
    },
    {
      "cell_type": "code",
      "metadata": {
        "id": "MzUxHadHSnF8",
        "colab_type": "code",
        "colab": {}
      },
      "source": [
        "import nltk, json\n",
        "from os import listdir\n",
        "import pandas as pd \n",
        "import numpy as np\n",
        "import sys,os,json"
      ],
      "execution_count": 0,
      "outputs": []
    },
    {
      "cell_type": "code",
      "metadata": {
        "id": "pXIjlM1cSnGD",
        "colab_type": "code",
        "colab": {}
      },
      "source": [
        "folders = ['acl_2017', 'conll_2016', 'iclr_2017']\n",
        "conferences = ['acl', 'conll', 'iclr']\n",
        "sub_folders = ['train', 'dev', 'test']\n",
        "final_folder = 'reviews'\n",
        "data_dir = \"../PeerRead/data\""
      ],
      "execution_count": 0,
      "outputs": []
    },
    {
      "cell_type": "code",
      "metadata": {
        "id": "XatvQ4Q_SnGH",
        "colab_type": "code",
        "colab": {}
      },
      "source": [
        "# train, dev, test df\n",
        "sub_folder_df = {}\n",
        "\n",
        "for sub_folder in sub_folders:\n",
        "    stuff = []\n",
        "    for conf_index, folder in enumerate(folders):\n",
        "        path = os.path.join(data_dir, folder, sub_folder, final_folder)\n",
        "        filenames = listdir(path)\n",
        "        for filename in filenames:\n",
        "            with open(os.path.join(path, filename)) as data_file:    \n",
        "                data = json.load(data_file)\n",
        "                for review in data['reviews']:\n",
        "                    df = pd.DataFrame(review, index=[0])\n",
        "                    df['CONFERENCE'] = conferences[conf_index]\n",
        "                    df['ABSTRACT'] = data['abstract']\n",
        "                    df['PAPER_ID'] = data['id']\n",
        "                    stuff.append(df)\n",
        "    \n",
        "    sub_folder_df[sub_folder] = stuff"
      ],
      "execution_count": 0,
      "outputs": []
    },
    {
      "cell_type": "code",
      "metadata": {
        "id": "0FWyWWfiSnGK",
        "colab_type": "code",
        "colab": {},
        "outputId": "593b5957-732f-42bd-c9e4-472035a6bf1a"
      },
      "source": [
        "sub_folder_df.keys()"
      ],
      "execution_count": 0,
      "outputs": [
        {
          "output_type": "execute_result",
          "data": {
            "text/plain": [
              "dict_keys(['train', 'dev', 'test'])"
            ]
          },
          "metadata": {
            "tags": []
          },
          "execution_count": 5
        }
      ]
    },
    {
      "cell_type": "code",
      "metadata": {
        "id": "-2C6aWYdSnGO",
        "colab_type": "code",
        "colab": {}
      },
      "source": [
        "train_df = pd.concat(sub_folder_df['train'], sort=False).reset_index(drop=True)\n",
        "dev_df = pd.concat(sub_folder_df['dev'], sort=False).reset_index(drop=True)\n",
        "test_df = pd.concat(sub_folder_df['test'], sort=False).reset_index(drop=True)"
      ],
      "execution_count": 0,
      "outputs": []
    },
    {
      "cell_type": "code",
      "metadata": {
        "id": "uivfDEOTSnGR",
        "colab_type": "code",
        "colab": {},
        "outputId": "7687fce2-2c03-40e7-e9bc-35b4b2c116f3"
      },
      "source": [
        "print(\"Train instances:\", len(train_df))\n",
        "print(\"Dev instances:\", len(dev_df))\n",
        "print(\"Test instances:\", len(test_df))"
      ],
      "execution_count": 0,
      "outputs": [
        {
          "output_type": "stream",
          "text": [
            "Train instances: 6221\n",
            "Dev instances: 697\n",
            "Test instances: 666\n"
          ],
          "name": "stdout"
        }
      ]
    },
    {
      "cell_type": "markdown",
      "metadata": {
        "id": "gRbznF5iSnGU",
        "colab_type": "text"
      },
      "source": [
        "#### Save train, dev, test dataframes "
      ]
    },
    {
      "cell_type": "code",
      "metadata": {
        "id": "IGsNJE7pSnGV",
        "colab_type": "code",
        "colab": {}
      },
      "source": [
        "train_df.to_csv('train_reviews.csv', index=False)\n",
        "dev_df.to_csv('dev_reviews.csv', index=False)\n",
        "test_df.to_csv('test_reviews.csv', index=False)"
      ],
      "execution_count": 0,
      "outputs": []
    },
    {
      "cell_type": "code",
      "metadata": {
        "id": "Fc9V300QSnGZ",
        "colab_type": "code",
        "colab": {}
      },
      "source": [
        ""
      ],
      "execution_count": 0,
      "outputs": []
    }
  ]
}